{
 "cells": [
  {
   "cell_type": "code",
   "execution_count": 1,
   "id": "70b76bab",
   "metadata": {
    "execution": {
     "iopub.execute_input": "2025-07-14T11:06:23.412101Z",
     "iopub.status.busy": "2025-07-14T11:06:23.411417Z",
     "iopub.status.idle": "2025-07-14T11:06:26.761644Z",
     "shell.execute_reply": "2025-07-14T11:06:26.760499Z"
    },
    "papermill": {
     "duration": 3.358462,
     "end_time": "2025-07-14T11:06:26.763253",
     "exception": false,
     "start_time": "2025-07-14T11:06:23.404791",
     "status": "completed"
    },
    "tags": []
   },
   "outputs": [
    {
     "name": "stdout",
     "output_type": "stream",
     "text": [
      "/kaggle/input/healthcare-insurance/insurance.csv\n"
     ]
    }
   ],
   "source": [
    "import numpy as np \n",
    "import pandas as pd \n",
    "import seaborn as sns\n",
    "import matplotlib.pyplot as plt\n",
    "\n",
    "\n",
    "import os\n",
    "for dirname, _, filenames in os.walk('/kaggle/input'):\n",
    "    for filename in filenames:\n",
    "        print(os.path.join(dirname, filename))\n"
   ]
  },
  {
   "cell_type": "code",
   "execution_count": 2,
   "id": "9ca0b7f5",
   "metadata": {
    "execution": {
     "iopub.execute_input": "2025-07-14T11:06:26.774784Z",
     "iopub.status.busy": "2025-07-14T11:06:26.774009Z",
     "iopub.status.idle": "2025-07-14T11:06:26.812382Z",
     "shell.execute_reply": "2025-07-14T11:06:26.811469Z"
    },
    "papermill": {
     "duration": 0.045544,
     "end_time": "2025-07-14T11:06:26.813856",
     "exception": false,
     "start_time": "2025-07-14T11:06:26.768312",
     "status": "completed"
    },
    "tags": []
   },
   "outputs": [
    {
     "data": {
      "text/html": [
       "<div>\n",
       "<style scoped>\n",
       "    .dataframe tbody tr th:only-of-type {\n",
       "        vertical-align: middle;\n",
       "    }\n",
       "\n",
       "    .dataframe tbody tr th {\n",
       "        vertical-align: top;\n",
       "    }\n",
       "\n",
       "    .dataframe thead th {\n",
       "        text-align: right;\n",
       "    }\n",
       "</style>\n",
       "<table border=\"1\" class=\"dataframe\">\n",
       "  <thead>\n",
       "    <tr style=\"text-align: right;\">\n",
       "      <th></th>\n",
       "      <th>age</th>\n",
       "      <th>sex</th>\n",
       "      <th>bmi</th>\n",
       "      <th>children</th>\n",
       "      <th>smoker</th>\n",
       "      <th>region</th>\n",
       "      <th>charges</th>\n",
       "    </tr>\n",
       "  </thead>\n",
       "  <tbody>\n",
       "    <tr>\n",
       "      <th>0</th>\n",
       "      <td>19</td>\n",
       "      <td>female</td>\n",
       "      <td>27.900</td>\n",
       "      <td>0</td>\n",
       "      <td>yes</td>\n",
       "      <td>southwest</td>\n",
       "      <td>16884.92400</td>\n",
       "    </tr>\n",
       "    <tr>\n",
       "      <th>1</th>\n",
       "      <td>18</td>\n",
       "      <td>male</td>\n",
       "      <td>33.770</td>\n",
       "      <td>1</td>\n",
       "      <td>no</td>\n",
       "      <td>southeast</td>\n",
       "      <td>1725.55230</td>\n",
       "    </tr>\n",
       "    <tr>\n",
       "      <th>2</th>\n",
       "      <td>28</td>\n",
       "      <td>male</td>\n",
       "      <td>33.000</td>\n",
       "      <td>3</td>\n",
       "      <td>no</td>\n",
       "      <td>southeast</td>\n",
       "      <td>4449.46200</td>\n",
       "    </tr>\n",
       "    <tr>\n",
       "      <th>3</th>\n",
       "      <td>33</td>\n",
       "      <td>male</td>\n",
       "      <td>22.705</td>\n",
       "      <td>0</td>\n",
       "      <td>no</td>\n",
       "      <td>northwest</td>\n",
       "      <td>21984.47061</td>\n",
       "    </tr>\n",
       "    <tr>\n",
       "      <th>4</th>\n",
       "      <td>32</td>\n",
       "      <td>male</td>\n",
       "      <td>28.880</td>\n",
       "      <td>0</td>\n",
       "      <td>no</td>\n",
       "      <td>northwest</td>\n",
       "      <td>3866.85520</td>\n",
       "    </tr>\n",
       "  </tbody>\n",
       "</table>\n",
       "</div>"
      ],
      "text/plain": [
       "   age     sex     bmi  children smoker     region      charges\n",
       "0   19  female  27.900         0    yes  southwest  16884.92400\n",
       "1   18    male  33.770         1     no  southeast   1725.55230\n",
       "2   28    male  33.000         3     no  southeast   4449.46200\n",
       "3   33    male  22.705         0     no  northwest  21984.47061\n",
       "4   32    male  28.880         0     no  northwest   3866.85520"
      ]
     },
     "execution_count": 2,
     "metadata": {},
     "output_type": "execute_result"
    }
   ],
   "source": [
    "df=pd.read_csv(\"/kaggle/input/healthcare-insurance/insurance.csv\")\n",
    "df.head()"
   ]
  },
  {
   "cell_type": "code",
   "execution_count": 3,
   "id": "592e954a",
   "metadata": {
    "execution": {
     "iopub.execute_input": "2025-07-14T11:06:26.825008Z",
     "iopub.status.busy": "2025-07-14T11:06:26.824232Z",
     "iopub.status.idle": "2025-07-14T11:06:26.829517Z",
     "shell.execute_reply": "2025-07-14T11:06:26.828822Z"
    },
    "papermill": {
     "duration": 0.012047,
     "end_time": "2025-07-14T11:06:26.830790",
     "exception": false,
     "start_time": "2025-07-14T11:06:26.818743",
     "status": "completed"
    },
    "tags": []
   },
   "outputs": [
    {
     "data": {
      "text/plain": [
       "(1338, 7)"
      ]
     },
     "execution_count": 3,
     "metadata": {},
     "output_type": "execute_result"
    }
   ],
   "source": [
    "df.shape"
   ]
  },
  {
   "cell_type": "code",
   "execution_count": 4,
   "id": "48dd95aa",
   "metadata": {
    "execution": {
     "iopub.execute_input": "2025-07-14T11:06:26.841617Z",
     "iopub.status.busy": "2025-07-14T11:06:26.841322Z",
     "iopub.status.idle": "2025-07-14T11:06:26.863038Z",
     "shell.execute_reply": "2025-07-14T11:06:26.862143Z"
    },
    "papermill": {
     "duration": 0.02862,
     "end_time": "2025-07-14T11:06:26.864304",
     "exception": false,
     "start_time": "2025-07-14T11:06:26.835684",
     "status": "completed"
    },
    "tags": []
   },
   "outputs": [
    {
     "name": "stdout",
     "output_type": "stream",
     "text": [
      "<class 'pandas.core.frame.DataFrame'>\n",
      "RangeIndex: 1338 entries, 0 to 1337\n",
      "Data columns (total 7 columns):\n",
      " #   Column    Non-Null Count  Dtype  \n",
      "---  ------    --------------  -----  \n",
      " 0   age       1338 non-null   int64  \n",
      " 1   sex       1338 non-null   object \n",
      " 2   bmi       1338 non-null   float64\n",
      " 3   children  1338 non-null   int64  \n",
      " 4   smoker    1338 non-null   object \n",
      " 5   region    1338 non-null   object \n",
      " 6   charges   1338 non-null   float64\n",
      "dtypes: float64(2), int64(2), object(3)\n",
      "memory usage: 73.3+ KB\n"
     ]
    }
   ],
   "source": [
    "df.info()"
   ]
  },
  {
   "cell_type": "code",
   "execution_count": 5,
   "id": "b2b5ff59",
   "metadata": {
    "execution": {
     "iopub.execute_input": "2025-07-14T11:06:26.875762Z",
     "iopub.status.busy": "2025-07-14T11:06:26.875029Z",
     "iopub.status.idle": "2025-07-14T11:06:26.896079Z",
     "shell.execute_reply": "2025-07-14T11:06:26.895207Z"
    },
    "papermill": {
     "duration": 0.028341,
     "end_time": "2025-07-14T11:06:26.897618",
     "exception": false,
     "start_time": "2025-07-14T11:06:26.869277",
     "status": "completed"
    },
    "tags": []
   },
   "outputs": [
    {
     "data": {
      "text/html": [
       "<div>\n",
       "<style scoped>\n",
       "    .dataframe tbody tr th:only-of-type {\n",
       "        vertical-align: middle;\n",
       "    }\n",
       "\n",
       "    .dataframe tbody tr th {\n",
       "        vertical-align: top;\n",
       "    }\n",
       "\n",
       "    .dataframe thead th {\n",
       "        text-align: right;\n",
       "    }\n",
       "</style>\n",
       "<table border=\"1\" class=\"dataframe\">\n",
       "  <thead>\n",
       "    <tr style=\"text-align: right;\">\n",
       "      <th></th>\n",
       "      <th>count</th>\n",
       "      <th>mean</th>\n",
       "      <th>std</th>\n",
       "      <th>min</th>\n",
       "      <th>25%</th>\n",
       "      <th>50%</th>\n",
       "      <th>75%</th>\n",
       "      <th>max</th>\n",
       "    </tr>\n",
       "  </thead>\n",
       "  <tbody>\n",
       "    <tr>\n",
       "      <th>age</th>\n",
       "      <td>1338.0</td>\n",
       "      <td>39.207025</td>\n",
       "      <td>14.049960</td>\n",
       "      <td>18.0000</td>\n",
       "      <td>27.00000</td>\n",
       "      <td>39.000</td>\n",
       "      <td>51.000000</td>\n",
       "      <td>64.00000</td>\n",
       "    </tr>\n",
       "    <tr>\n",
       "      <th>bmi</th>\n",
       "      <td>1338.0</td>\n",
       "      <td>30.663397</td>\n",
       "      <td>6.098187</td>\n",
       "      <td>15.9600</td>\n",
       "      <td>26.29625</td>\n",
       "      <td>30.400</td>\n",
       "      <td>34.693750</td>\n",
       "      <td>53.13000</td>\n",
       "    </tr>\n",
       "    <tr>\n",
       "      <th>children</th>\n",
       "      <td>1338.0</td>\n",
       "      <td>1.094918</td>\n",
       "      <td>1.205493</td>\n",
       "      <td>0.0000</td>\n",
       "      <td>0.00000</td>\n",
       "      <td>1.000</td>\n",
       "      <td>2.000000</td>\n",
       "      <td>5.00000</td>\n",
       "    </tr>\n",
       "    <tr>\n",
       "      <th>charges</th>\n",
       "      <td>1338.0</td>\n",
       "      <td>13270.422265</td>\n",
       "      <td>12110.011237</td>\n",
       "      <td>1121.8739</td>\n",
       "      <td>4740.28715</td>\n",
       "      <td>9382.033</td>\n",
       "      <td>16639.912515</td>\n",
       "      <td>63770.42801</td>\n",
       "    </tr>\n",
       "  </tbody>\n",
       "</table>\n",
       "</div>"
      ],
      "text/plain": [
       "           count          mean           std        min         25%       50%  \\\n",
       "age       1338.0     39.207025     14.049960    18.0000    27.00000    39.000   \n",
       "bmi       1338.0     30.663397      6.098187    15.9600    26.29625    30.400   \n",
       "children  1338.0      1.094918      1.205493     0.0000     0.00000     1.000   \n",
       "charges   1338.0  13270.422265  12110.011237  1121.8739  4740.28715  9382.033   \n",
       "\n",
       "                   75%          max  \n",
       "age          51.000000     64.00000  \n",
       "bmi          34.693750     53.13000  \n",
       "children      2.000000      5.00000  \n",
       "charges   16639.912515  63770.42801  "
      ]
     },
     "execution_count": 5,
     "metadata": {},
     "output_type": "execute_result"
    }
   ],
   "source": [
    "df.describe().T"
   ]
  },
  {
   "cell_type": "code",
   "execution_count": 6,
   "id": "d2b17c19",
   "metadata": {
    "execution": {
     "iopub.execute_input": "2025-07-14T11:06:26.909398Z",
     "iopub.status.busy": "2025-07-14T11:06:26.908611Z",
     "iopub.status.idle": "2025-07-14T11:06:26.915732Z",
     "shell.execute_reply": "2025-07-14T11:06:26.914940Z"
    },
    "papermill": {
     "duration": 0.014224,
     "end_time": "2025-07-14T11:06:26.917036",
     "exception": false,
     "start_time": "2025-07-14T11:06:26.902812",
     "status": "completed"
    },
    "tags": []
   },
   "outputs": [
    {
     "data": {
      "text/plain": [
       "age         0\n",
       "sex         0\n",
       "bmi         0\n",
       "children    0\n",
       "smoker      0\n",
       "region      0\n",
       "charges     0\n",
       "dtype: int64"
      ]
     },
     "execution_count": 6,
     "metadata": {},
     "output_type": "execute_result"
    }
   ],
   "source": [
    "df.isnull().sum()"
   ]
  },
  {
   "cell_type": "code",
   "execution_count": 7,
   "id": "f4776569",
   "metadata": {
    "execution": {
     "iopub.execute_input": "2025-07-14T11:06:26.929648Z",
     "iopub.status.busy": "2025-07-14T11:06:26.928888Z",
     "iopub.status.idle": "2025-07-14T11:06:26.936680Z",
     "shell.execute_reply": "2025-07-14T11:06:26.935857Z"
    },
    "papermill": {
     "duration": 0.01577,
     "end_time": "2025-07-14T11:06:26.938014",
     "exception": false,
     "start_time": "2025-07-14T11:06:26.922244",
     "status": "completed"
    },
    "tags": []
   },
   "outputs": [
    {
     "data": {
      "text/plain": [
       "1"
      ]
     },
     "execution_count": 7,
     "metadata": {},
     "output_type": "execute_result"
    }
   ],
   "source": [
    "df.duplicated().sum()"
   ]
  },
  {
   "cell_type": "code",
   "execution_count": 8,
   "id": "9817d15c",
   "metadata": {
    "execution": {
     "iopub.execute_input": "2025-07-14T11:06:26.949552Z",
     "iopub.status.busy": "2025-07-14T11:06:26.949239Z",
     "iopub.status.idle": "2025-07-14T11:06:26.958348Z",
     "shell.execute_reply": "2025-07-14T11:06:26.957501Z"
    },
    "papermill": {
     "duration": 0.016536,
     "end_time": "2025-07-14T11:06:26.959755",
     "exception": false,
     "start_time": "2025-07-14T11:06:26.943219",
     "status": "completed"
    },
    "tags": []
   },
   "outputs": [],
   "source": [
    "df=df.drop_duplicates()"
   ]
  },
  {
   "cell_type": "code",
   "execution_count": 9,
   "id": "50223af2",
   "metadata": {
    "execution": {
     "iopub.execute_input": "2025-07-14T11:06:26.971501Z",
     "iopub.status.busy": "2025-07-14T11:06:26.971196Z",
     "iopub.status.idle": "2025-07-14T11:06:26.976928Z",
     "shell.execute_reply": "2025-07-14T11:06:26.976078Z"
    },
    "papermill": {
     "duration": 0.013102,
     "end_time": "2025-07-14T11:06:26.978174",
     "exception": false,
     "start_time": "2025-07-14T11:06:26.965072",
     "status": "completed"
    },
    "tags": []
   },
   "outputs": [
    {
     "data": {
      "text/plain": [
       "(1337, 7)"
      ]
     },
     "execution_count": 9,
     "metadata": {},
     "output_type": "execute_result"
    }
   ],
   "source": [
    "df.shape"
   ]
  },
  {
   "cell_type": "code",
   "execution_count": 10,
   "id": "f9541c2e",
   "metadata": {
    "execution": {
     "iopub.execute_input": "2025-07-14T11:06:26.990344Z",
     "iopub.status.busy": "2025-07-14T11:06:26.989580Z",
     "iopub.status.idle": "2025-07-14T11:06:26.997552Z",
     "shell.execute_reply": "2025-07-14T11:06:26.996663Z"
    },
    "papermill": {
     "duration": 0.015368,
     "end_time": "2025-07-14T11:06:26.998943",
     "exception": false,
     "start_time": "2025-07-14T11:06:26.983575",
     "status": "completed"
    },
    "tags": []
   },
   "outputs": [
    {
     "data": {
      "text/plain": [
       "0"
      ]
     },
     "execution_count": 10,
     "metadata": {},
     "output_type": "execute_result"
    }
   ],
   "source": [
    "df.duplicated().sum()"
   ]
  },
  {
   "cell_type": "code",
   "execution_count": 11,
   "id": "098c3d64",
   "metadata": {
    "execution": {
     "iopub.execute_input": "2025-07-14T11:06:27.018090Z",
     "iopub.status.busy": "2025-07-14T11:06:27.017413Z",
     "iopub.status.idle": "2025-07-14T11:06:27.024634Z",
     "shell.execute_reply": "2025-07-14T11:06:27.023212Z"
    },
    "papermill": {
     "duration": 0.021359,
     "end_time": "2025-07-14T11:06:27.026601",
     "exception": false,
     "start_time": "2025-07-14T11:06:27.005242",
     "status": "completed"
    },
    "tags": []
   },
   "outputs": [
    {
     "data": {
      "text/plain": [
       "Index(['age', 'sex', 'bmi', 'children', 'smoker', 'region', 'charges'], dtype='object')"
      ]
     },
     "execution_count": 11,
     "metadata": {},
     "output_type": "execute_result"
    }
   ],
   "source": [
    "df.columns"
   ]
  },
  {
   "cell_type": "code",
   "execution_count": 12,
   "id": "5eab89f3",
   "metadata": {
    "execution": {
     "iopub.execute_input": "2025-07-14T11:06:27.041018Z",
     "iopub.status.busy": "2025-07-14T11:06:27.040610Z",
     "iopub.status.idle": "2025-07-14T11:06:27.639806Z",
     "shell.execute_reply": "2025-07-14T11:06:27.638780Z"
    },
    "papermill": {
     "duration": 0.607714,
     "end_time": "2025-07-14T11:06:27.641632",
     "exception": false,
     "start_time": "2025-07-14T11:06:27.033918",
     "status": "completed"
    },
    "tags": []
   },
   "outputs": [
    {
     "data": {
      "image/png": "[encoded data removed]",
      "text/plain": [
       "<Figure size 640x480 with 1 Axes>"
      ]
     },
     "metadata": {},
     "output_type": "display_data"
    },
    {
     "data": {
      "image/png": "[encoded data removed]",
      "text/plain": [
       "<Figure size 640x480 with 1 Axes>"
      ]
     },
     "metadata": {},
     "output_type": "display_data"
    },
    {
     "data": {
      "image/png": "[encoded data removed]",
      "text/plain": [
       "<Figure size 640x480 with 1 Axes>"
      ]
     },
     "metadata": {},
     "output_type": "display_data"
    },
    {
     "data": {
      "image/png": "[encoded data removed]",
      "text/plain": [
       "<Figure size 640x480 with 1 Axes>"
      ]
     },
     "metadata": {},
     "output_type": "display_data"
    }
   ],
   "source": [
    "for i in df.columns:\n",
    "    if (df[i].dtypes!='object'):\n",
    "        plt.boxplot(df[i])\n",
    "        plt.xlabel(i)\n",
    "        plt.show()\n",
    "        "
   ]
  },
  {
   "cell_type": "code",
   "execution_count": 13,
   "id": "670f3ca7",
   "metadata": {
    "execution": {
     "iopub.execute_input": "2025-07-14T11:06:27.659943Z",
     "iopub.status.busy": "2025-07-14T11:06:27.659620Z",
     "iopub.status.idle": "2025-07-14T11:06:27.677630Z",
     "shell.execute_reply": "2025-07-14T11:06:27.676818Z"
    },
    "papermill": {
     "duration": 0.029658,
     "end_time": "2025-07-14T11:06:27.679095",
     "exception": false,
     "start_time": "2025-07-14T11:06:27.649437",
     "status": "completed"
    },
    "tags": []
   },
   "outputs": [
    {
     "data": {
      "text/html": [
       "<div>\n",
       "<style scoped>\n",
       "    .dataframe tbody tr th:only-of-type {\n",
       "        vertical-align: middle;\n",
       "    }\n",
       "\n",
       "    .dataframe tbody tr th {\n",
       "        vertical-align: top;\n",
       "    }\n",
       "\n",
       "    .dataframe thead th {\n",
       "        text-align: right;\n",
       "    }\n",
       "</style>\n",
       "<table border=\"1\" class=\"dataframe\">\n",
       "  <thead>\n",
       "    <tr style=\"text-align: right;\">\n",
       "      <th></th>\n",
       "      <th>age</th>\n",
       "      <th>sex</th>\n",
       "      <th>bmi</th>\n",
       "      <th>children</th>\n",
       "      <th>smoker</th>\n",
       "      <th>region</th>\n",
       "      <th>charges</th>\n",
       "    </tr>\n",
       "  </thead>\n",
       "  <tbody>\n",
       "    <tr>\n",
       "      <th>0</th>\n",
       "      <td>19</td>\n",
       "      <td>female</td>\n",
       "      <td>27.900</td>\n",
       "      <td>0</td>\n",
       "      <td>yes</td>\n",
       "      <td>southwest</td>\n",
       "      <td>16884.92400</td>\n",
       "    </tr>\n",
       "    <tr>\n",
       "      <th>1</th>\n",
       "      <td>18</td>\n",
       "      <td>male</td>\n",
       "      <td>33.770</td>\n",
       "      <td>1</td>\n",
       "      <td>no</td>\n",
       "      <td>southeast</td>\n",
       "      <td>1725.55230</td>\n",
       "    </tr>\n",
       "    <tr>\n",
       "      <th>2</th>\n",
       "      <td>28</td>\n",
       "      <td>male</td>\n",
       "      <td>33.000</td>\n",
       "      <td>3</td>\n",
       "      <td>no</td>\n",
       "      <td>southeast</td>\n",
       "      <td>4449.46200</td>\n",
       "    </tr>\n",
       "    <tr>\n",
       "      <th>3</th>\n",
       "      <td>33</td>\n",
       "      <td>male</td>\n",
       "      <td>22.705</td>\n",
       "      <td>0</td>\n",
       "      <td>no</td>\n",
       "      <td>northwest</td>\n",
       "      <td>21984.47061</td>\n",
       "    </tr>\n",
       "    <tr>\n",
       "      <th>4</th>\n",
       "      <td>32</td>\n",
       "      <td>male</td>\n",
       "      <td>28.880</td>\n",
       "      <td>0</td>\n",
       "      <td>no</td>\n",
       "      <td>northwest</td>\n",
       "      <td>3866.85520</td>\n",
       "    </tr>\n",
       "    <tr>\n",
       "      <th>...</th>\n",
       "      <td>...</td>\n",
       "      <td>...</td>\n",
       "      <td>...</td>\n",
       "      <td>...</td>\n",
       "      <td>...</td>\n",
       "      <td>...</td>\n",
       "      <td>...</td>\n",
       "    </tr>\n",
       "    <tr>\n",
       "      <th>1333</th>\n",
       "      <td>50</td>\n",
       "      <td>male</td>\n",
       "      <td>30.970</td>\n",
       "      <td>3</td>\n",
       "      <td>no</td>\n",
       "      <td>northwest</td>\n",
       "      <td>10600.54830</td>\n",
       "    </tr>\n",
       "    <tr>\n",
       "      <th>1334</th>\n",
       "      <td>18</td>\n",
       "      <td>female</td>\n",
       "      <td>31.920</td>\n",
       "      <td>0</td>\n",
       "      <td>no</td>\n",
       "      <td>northeast</td>\n",
       "      <td>2205.98080</td>\n",
       "    </tr>\n",
       "    <tr>\n",
       "      <th>1335</th>\n",
       "      <td>18</td>\n",
       "      <td>female</td>\n",
       "      <td>36.850</td>\n",
       "      <td>0</td>\n",
       "      <td>no</td>\n",
       "      <td>southeast</td>\n",
       "      <td>1629.83350</td>\n",
       "    </tr>\n",
       "    <tr>\n",
       "      <th>1336</th>\n",
       "      <td>21</td>\n",
       "      <td>female</td>\n",
       "      <td>25.800</td>\n",
       "      <td>0</td>\n",
       "      <td>no</td>\n",
       "      <td>southwest</td>\n",
       "      <td>2007.94500</td>\n",
       "    </tr>\n",
       "    <tr>\n",
       "      <th>1337</th>\n",
       "      <td>61</td>\n",
       "      <td>female</td>\n",
       "      <td>29.070</td>\n",
       "      <td>0</td>\n",
       "      <td>yes</td>\n",
       "      <td>northwest</td>\n",
       "      <td>29141.36030</td>\n",
       "    </tr>\n",
       "  </tbody>\n",
       "</table>\n",
       "<p>1328 rows × 7 columns</p>\n",
       "</div>"
      ],
      "text/plain": [
       "      age     sex     bmi  children smoker     region      charges\n",
       "0      19  female  27.900         0    yes  southwest  16884.92400\n",
       "1      18    male  33.770         1     no  southeast   1725.55230\n",
       "2      28    male  33.000         3     no  southeast   4449.46200\n",
       "3      33    male  22.705         0     no  northwest  21984.47061\n",
       "4      32    male  28.880         0     no  northwest   3866.85520\n",
       "...   ...     ...     ...       ...    ...        ...          ...\n",
       "1333   50    male  30.970         3     no  northwest  10600.54830\n",
       "1334   18  female  31.920         0     no  northeast   2205.98080\n",
       "1335   18  female  36.850         0     no  southeast   1629.83350\n",
       "1336   21  female  25.800         0     no  southwest   2007.94500\n",
       "1337   61  female  29.070         0    yes  northwest  29141.36030\n",
       "\n",
       "[1328 rows x 7 columns]"
      ]
     },
     "execution_count": 13,
     "metadata": {},
     "output_type": "execute_result"
    }
   ],
   "source": [
    "Q1=df['bmi'].quantile(0.25)\n",
    "Q3=df['bmi'].quantile(0.75)\n",
    "IQR=Q3-Q1\n",
    "lb=Q1-1.5*IQR\n",
    "ub=Q3+1.5*IQR\n",
    "df=df[(df['bmi']>=lb) & (df['bmi']<=ub)]\n",
    "df\n"
   ]
  },
  {
   "cell_type": "code",
   "execution_count": 14,
   "id": "ef260366",
   "metadata": {
    "execution": {
     "iopub.execute_input": "2025-07-14T11:06:27.694443Z",
     "iopub.status.busy": "2025-07-14T11:06:27.693704Z",
     "iopub.status.idle": "2025-07-14T11:06:28.087993Z",
     "shell.execute_reply": "2025-07-14T11:06:28.087054Z"
    },
    "papermill": {
     "duration": 0.403363,
     "end_time": "2025-07-14T11:06:28.089376",
     "exception": false,
     "start_time": "2025-07-14T11:06:27.686013",
     "status": "completed"
    },
    "tags": []
   },
   "outputs": [
    {
     "data": {
      "image/png": "[encoded data removed]",
      "text/plain": [
       "<Figure size 640x480 with 1 Axes>"
      ]
     },
     "metadata": {},
     "output_type": "display_data"
    },
    {
     "data": {
      "image/png": "[encoded data removed]",
      "text/plain": [
       "<Figure size 640x480 with 1 Axes>"
      ]
     },
     "metadata": {},
     "output_type": "display_data"
    },
    {
     "data": {
      "image/png": "[encoded data removed]",
      "text/plain": [
       "<Figure size 640x480 with 1 Axes>"
      ]
     },
     "metadata": {},
     "output_type": "display_data"
    },
    {
     "data": {
      "image/png": "[encoded data removed]",
      "text/plain": [
       "<Figure size 640x480 with 1 Axes>"
      ]
     },
     "metadata": {},
     "output_type": "display_data"
    }
   ],
   "source": [
    "for i in df.columns:\n",
    "    if (df[i].dtypes!='object'):\n",
    "        plt.boxplot(df[i])\n",
    "        plt.xlabel(i)\n",
    "        plt.show()"
   ]
  },
  {
   "cell_type": "code",
   "execution_count": 15,
   "id": "7ff4bfa1",
   "metadata": {
    "execution": {
     "iopub.execute_input": "2025-07-14T11:06:28.105621Z",
     "iopub.status.busy": "2025-07-14T11:06:28.105326Z",
     "iopub.status.idle": "2025-07-14T11:06:28.274991Z",
     "shell.execute_reply": "2025-07-14T11:06:28.274076Z"
    },
    "papermill": {
     "duration": 0.179445,
     "end_time": "2025-07-14T11:06:28.276474",
     "exception": false,
     "start_time": "2025-07-14T11:06:28.097029",
     "status": "completed"
    },
    "tags": []
   },
   "outputs": [
    {
     "data": {
      "text/html": [
       "<div>\n",
       "<style scoped>\n",
       "    .dataframe tbody tr th:only-of-type {\n",
       "        vertical-align: middle;\n",
       "    }\n",
       "\n",
       "    .dataframe tbody tr th {\n",
       "        vertical-align: top;\n",
       "    }\n",
       "\n",
       "    .dataframe thead th {\n",
       "        text-align: right;\n",
       "    }\n",
       "</style>\n",
       "<table border=\"1\" class=\"dataframe\">\n",
       "  <thead>\n",
       "    <tr style=\"text-align: right;\">\n",
       "      <th></th>\n",
       "      <th>age</th>\n",
       "      <th>sex</th>\n",
       "      <th>bmi</th>\n",
       "      <th>children</th>\n",
       "      <th>smoker</th>\n",
       "      <th>region</th>\n",
       "      <th>charges</th>\n",
       "    </tr>\n",
       "  </thead>\n",
       "  <tbody>\n",
       "    <tr>\n",
       "      <th>0</th>\n",
       "      <td>19</td>\n",
       "      <td>0</td>\n",
       "      <td>27.900</td>\n",
       "      <td>0</td>\n",
       "      <td>1</td>\n",
       "      <td>3</td>\n",
       "      <td>16884.92400</td>\n",
       "    </tr>\n",
       "    <tr>\n",
       "      <th>1</th>\n",
       "      <td>18</td>\n",
       "      <td>1</td>\n",
       "      <td>33.770</td>\n",
       "      <td>1</td>\n",
       "      <td>0</td>\n",
       "      <td>2</td>\n",
       "      <td>1725.55230</td>\n",
       "    </tr>\n",
       "    <tr>\n",
       "      <th>2</th>\n",
       "      <td>28</td>\n",
       "      <td>1</td>\n",
       "      <td>33.000</td>\n",
       "      <td>3</td>\n",
       "      <td>0</td>\n",
       "      <td>2</td>\n",
       "      <td>4449.46200</td>\n",
       "    </tr>\n",
       "    <tr>\n",
       "      <th>3</th>\n",
       "      <td>33</td>\n",
       "      <td>1</td>\n",
       "      <td>22.705</td>\n",
       "      <td>0</td>\n",
       "      <td>0</td>\n",
       "      <td>1</td>\n",
       "      <td>21984.47061</td>\n",
       "    </tr>\n",
       "    <tr>\n",
       "      <th>4</th>\n",
       "      <td>32</td>\n",
       "      <td>1</td>\n",
       "      <td>28.880</td>\n",
       "      <td>0</td>\n",
       "      <td>0</td>\n",
       "      <td>1</td>\n",
       "      <td>3866.85520</td>\n",
       "    </tr>\n",
       "    <tr>\n",
       "      <th>...</th>\n",
       "      <td>...</td>\n",
       "      <td>...</td>\n",
       "      <td>...</td>\n",
       "      <td>...</td>\n",
       "      <td>...</td>\n",
       "      <td>...</td>\n",
       "      <td>...</td>\n",
       "    </tr>\n",
       "    <tr>\n",
       "      <th>1333</th>\n",
       "      <td>50</td>\n",
       "      <td>1</td>\n",
       "      <td>30.970</td>\n",
       "      <td>3</td>\n",
       "      <td>0</td>\n",
       "      <td>1</td>\n",
       "      <td>10600.54830</td>\n",
       "    </tr>\n",
       "    <tr>\n",
       "      <th>1334</th>\n",
       "      <td>18</td>\n",
       "      <td>0</td>\n",
       "      <td>31.920</td>\n",
       "      <td>0</td>\n",
       "      <td>0</td>\n",
       "      <td>0</td>\n",
       "      <td>2205.98080</td>\n",
       "    </tr>\n",
       "    <tr>\n",
       "      <th>1335</th>\n",
       "      <td>18</td>\n",
       "      <td>0</td>\n",
       "      <td>36.850</td>\n",
       "      <td>0</td>\n",
       "      <td>0</td>\n",
       "      <td>2</td>\n",
       "      <td>1629.83350</td>\n",
       "    </tr>\n",
       "    <tr>\n",
       "      <th>1336</th>\n",
       "      <td>21</td>\n",
       "      <td>0</td>\n",
       "      <td>25.800</td>\n",
       "      <td>0</td>\n",
       "      <td>0</td>\n",
       "      <td>3</td>\n",
       "      <td>2007.94500</td>\n",
       "    </tr>\n",
       "    <tr>\n",
       "      <th>1337</th>\n",
       "      <td>61</td>\n",
       "      <td>0</td>\n",
       "      <td>29.070</td>\n",
       "      <td>0</td>\n",
       "      <td>1</td>\n",
       "      <td>1</td>\n",
       "      <td>29141.36030</td>\n",
       "    </tr>\n",
       "  </tbody>\n",
       "</table>\n",
       "<p>1328 rows × 7 columns</p>\n",
       "</div>"
      ],
      "text/plain": [
       "      age  sex     bmi  children  smoker  region      charges\n",
       "0      19    0  27.900         0       1       3  16884.92400\n",
       "1      18    1  33.770         1       0       2   1725.55230\n",
       "2      28    1  33.000         3       0       2   4449.46200\n",
       "3      33    1  22.705         0       0       1  21984.47061\n",
       "4      32    1  28.880         0       0       1   3866.85520\n",
       "...   ...  ...     ...       ...     ...     ...          ...\n",
       "1333   50    1  30.970         3       0       1  10600.54830\n",
       "1334   18    0  31.920         0       0       0   2205.98080\n",
       "1335   18    0  36.850         0       0       2   1629.83350\n",
       "1336   21    0  25.800         0       0       3   2007.94500\n",
       "1337   61    0  29.070         0       1       1  29141.36030\n",
       "\n",
       "[1328 rows x 7 columns]"
      ]
     },
     "execution_count": 15,
     "metadata": {},
     "output_type": "execute_result"
    }
   ],
   "source": [
    "from sklearn.preprocessing import LabelEncoder\n",
    "le=LabelEncoder()\n",
    "\n",
    "for i in df.columns:\n",
    "    if df[i].dtypes=='object':\n",
    "        df[i]=le.fit_transform(df[i])\n",
    "df\n"
   ]
  },
  {
   "cell_type": "code",
   "execution_count": 16,
   "id": "98e0c7f4",
   "metadata": {
    "execution": {
     "iopub.execute_input": "2025-07-14T11:06:28.293766Z",
     "iopub.status.busy": "2025-07-14T11:06:28.293081Z",
     "iopub.status.idle": "2025-07-14T11:06:28.303060Z",
     "shell.execute_reply": "2025-07-14T11:06:28.302005Z"
    },
    "papermill": {
     "duration": 0.020123,
     "end_time": "2025-07-14T11:06:28.304475",
     "exception": false,
     "start_time": "2025-07-14T11:06:28.284352",
     "status": "completed"
    },
    "tags": []
   },
   "outputs": [
    {
     "name": "stdout",
     "output_type": "stream",
     "text": [
      "<class 'pandas.core.frame.DataFrame'>\n",
      "Index: 1328 entries, 0 to 1337\n",
      "Data columns (total 7 columns):\n",
      " #   Column    Non-Null Count  Dtype  \n",
      "---  ------    --------------  -----  \n",
      " 0   age       1328 non-null   int64  \n",
      " 1   sex       1328 non-null   int64  \n",
      " 2   bmi       1328 non-null   float64\n",
      " 3   children  1328 non-null   int64  \n",
      " 4   smoker    1328 non-null   int64  \n",
      " 5   region    1328 non-null   int64  \n",
      " 6   charges   1328 non-null   float64\n",
      "dtypes: float64(2), int64(5)\n",
      "memory usage: 83.0 KB\n"
     ]
    }
   ],
   "source": [
    "df.info()"
   ]
  },
  {
   "cell_type": "code",
   "execution_count": 17,
   "id": "959441b8",
   "metadata": {
    "execution": {
     "iopub.execute_input": "2025-07-14T11:06:28.321582Z",
     "iopub.status.busy": "2025-07-14T11:06:28.320933Z",
     "iopub.status.idle": "2025-07-14T11:06:28.333467Z",
     "shell.execute_reply": "2025-07-14T11:06:28.332617Z"
    },
    "papermill": {
     "duration": 0.022514,
     "end_time": "2025-07-14T11:06:28.334856",
     "exception": false,
     "start_time": "2025-07-14T11:06:28.312342",
     "status": "completed"
    },
    "tags": []
   },
   "outputs": [
    {
     "data": {
      "text/html": [
       "<div>\n",
       "<style scoped>\n",
       "    .dataframe tbody tr th:only-of-type {\n",
       "        vertical-align: middle;\n",
       "    }\n",
       "\n",
       "    .dataframe tbody tr th {\n",
       "        vertical-align: top;\n",
       "    }\n",
       "\n",
       "    .dataframe thead th {\n",
       "        text-align: right;\n",
       "    }\n",
       "</style>\n",
       "<table border=\"1\" class=\"dataframe\">\n",
       "  <thead>\n",
       "    <tr style=\"text-align: right;\">\n",
       "      <th></th>\n",
       "      <th>age</th>\n",
       "      <th>sex</th>\n",
       "      <th>bmi</th>\n",
       "      <th>children</th>\n",
       "      <th>smoker</th>\n",
       "      <th>region</th>\n",
       "    </tr>\n",
       "  </thead>\n",
       "  <tbody>\n",
       "    <tr>\n",
       "      <th>0</th>\n",
       "      <td>19</td>\n",
       "      <td>0</td>\n",
       "      <td>27.900</td>\n",
       "      <td>0</td>\n",
       "      <td>1</td>\n",
       "      <td>3</td>\n",
       "    </tr>\n",
       "    <tr>\n",
       "      <th>1</th>\n",
       "      <td>18</td>\n",
       "      <td>1</td>\n",
       "      <td>33.770</td>\n",
       "      <td>1</td>\n",
       "      <td>0</td>\n",
       "      <td>2</td>\n",
       "    </tr>\n",
       "    <tr>\n",
       "      <th>2</th>\n",
       "      <td>28</td>\n",
       "      <td>1</td>\n",
       "      <td>33.000</td>\n",
       "      <td>3</td>\n",
       "      <td>0</td>\n",
       "      <td>2</td>\n",
       "    </tr>\n",
       "    <tr>\n",
       "      <th>3</th>\n",
       "      <td>33</td>\n",
       "      <td>1</td>\n",
       "      <td>22.705</td>\n",
       "      <td>0</td>\n",
       "      <td>0</td>\n",
       "      <td>1</td>\n",
       "    </tr>\n",
       "    <tr>\n",
       "      <th>4</th>\n",
       "      <td>32</td>\n",
       "      <td>1</td>\n",
       "      <td>28.880</td>\n",
       "      <td>0</td>\n",
       "      <td>0</td>\n",
       "      <td>1</td>\n",
       "    </tr>\n",
       "    <tr>\n",
       "      <th>...</th>\n",
       "      <td>...</td>\n",
       "      <td>...</td>\n",
       "      <td>...</td>\n",
       "      <td>...</td>\n",
       "      <td>...</td>\n",
       "      <td>...</td>\n",
       "    </tr>\n",
       "    <tr>\n",
       "      <th>1333</th>\n",
       "      <td>50</td>\n",
       "      <td>1</td>\n",
       "      <td>30.970</td>\n",
       "      <td>3</td>\n",
       "      <td>0</td>\n",
       "      <td>1</td>\n",
       "    </tr>\n",
       "    <tr>\n",
       "      <th>1334</th>\n",
       "      <td>18</td>\n",
       "      <td>0</td>\n",
       "      <td>31.920</td>\n",
       "      <td>0</td>\n",
       "      <td>0</td>\n",
       "      <td>0</td>\n",
       "    </tr>\n",
       "    <tr>\n",
       "      <th>1335</th>\n",
       "      <td>18</td>\n",
       "      <td>0</td>\n",
       "      <td>36.850</td>\n",
       "      <td>0</td>\n",
       "      <td>0</td>\n",
       "      <td>2</td>\n",
       "    </tr>\n",
       "    <tr>\n",
       "      <th>1336</th>\n",
       "      <td>21</td>\n",
       "      <td>0</td>\n",
       "      <td>25.800</td>\n",
       "      <td>0</td>\n",
       "      <td>0</td>\n",
       "      <td>3</td>\n",
       "    </tr>\n",
       "    <tr>\n",
       "      <th>1337</th>\n",
       "      <td>61</td>\n",
       "      <td>0</td>\n",
       "      <td>29.070</td>\n",
       "      <td>0</td>\n",
       "      <td>1</td>\n",
       "      <td>1</td>\n",
       "    </tr>\n",
       "  </tbody>\n",
       "</table>\n",
       "<p>1328 rows × 6 columns</p>\n",
       "</div>"
      ],
      "text/plain": [
       "      age  sex     bmi  children  smoker  region\n",
       "0      19    0  27.900         0       1       3\n",
       "1      18    1  33.770         1       0       2\n",
       "2      28    1  33.000         3       0       2\n",
       "3      33    1  22.705         0       0       1\n",
       "4      32    1  28.880         0       0       1\n",
       "...   ...  ...     ...       ...     ...     ...\n",
       "1333   50    1  30.970         3       0       1\n",
       "1334   18    0  31.920         0       0       0\n",
       "1335   18    0  36.850         0       0       2\n",
       "1336   21    0  25.800         0       0       3\n",
       "1337   61    0  29.070         0       1       1\n",
       "\n",
       "[1328 rows x 6 columns]"
      ]
     },
     "execution_count": 17,
     "metadata": {},
     "output_type": "execute_result"
    }
   ],
   "source": [
    "x=df.drop(columns=['charges'])\n",
    "x"
   ]
  },
  {
   "cell_type": "code",
   "execution_count": 18,
   "id": "1b5ae045",
   "metadata": {
    "execution": {
     "iopub.execute_input": "2025-07-14T11:06:28.352623Z",
     "iopub.status.busy": "2025-07-14T11:06:28.351982Z",
     "iopub.status.idle": "2025-07-14T11:06:28.358812Z",
     "shell.execute_reply": "2025-07-14T11:06:28.358006Z"
    },
    "papermill": {
     "duration": 0.01721,
     "end_time": "2025-07-14T11:06:28.360210",
     "exception": false,
     "start_time": "2025-07-14T11:06:28.343000",
     "status": "completed"
    },
    "tags": []
   },
   "outputs": [
    {
     "data": {
      "text/plain": [
       "0       16884.92400\n",
       "1        1725.55230\n",
       "2        4449.46200\n",
       "3       21984.47061\n",
       "4        3866.85520\n",
       "           ...     \n",
       "1333    10600.54830\n",
       "1334     2205.98080\n",
       "1335     1629.83350\n",
       "1336     2007.94500\n",
       "1337    29141.36030\n",
       "Name: charges, Length: 1328, dtype: float64"
      ]
     },
     "execution_count": 18,
     "metadata": {},
     "output_type": "execute_result"
    }
   ],
   "source": [
    "y=df['charges']\n",
    "y"
   ]
  },
  {
   "cell_type": "code",
   "execution_count": 19,
   "id": "d046b198",
   "metadata": {
    "execution": {
     "iopub.execute_input": "2025-07-14T11:06:28.378475Z",
     "iopub.status.busy": "2025-07-14T11:06:28.377667Z",
     "iopub.status.idle": "2025-07-14T11:06:28.584679Z",
     "shell.execute_reply": "2025-07-14T11:06:28.583798Z"
    },
    "papermill": {
     "duration": 0.217826,
     "end_time": "2025-07-14T11:06:28.586167",
     "exception": false,
     "start_time": "2025-07-14T11:06:28.368341",
     "status": "completed"
    },
    "tags": []
   },
   "outputs": [
    {
     "data": {
      "text/html": [
       "<div>\n",
       "<style scoped>\n",
       "    .dataframe tbody tr th:only-of-type {\n",
       "        vertical-align: middle;\n",
       "    }\n",
       "\n",
       "    .dataframe tbody tr th {\n",
       "        vertical-align: top;\n",
       "    }\n",
       "\n",
       "    .dataframe thead th {\n",
       "        text-align: right;\n",
       "    }\n",
       "</style>\n",
       "<table border=\"1\" class=\"dataframe\">\n",
       "  <thead>\n",
       "    <tr style=\"text-align: right;\">\n",
       "      <th></th>\n",
       "      <th>age</th>\n",
       "      <th>sex</th>\n",
       "      <th>bmi</th>\n",
       "      <th>children</th>\n",
       "      <th>smoker</th>\n",
       "      <th>region</th>\n",
       "    </tr>\n",
       "  </thead>\n",
       "  <tbody>\n",
       "    <tr>\n",
       "      <th>623</th>\n",
       "      <td>18</td>\n",
       "      <td>1</td>\n",
       "      <td>33.535</td>\n",
       "      <td>0</td>\n",
       "      <td>1</td>\n",
       "      <td>0</td>\n",
       "    </tr>\n",
       "    <tr>\n",
       "      <th>541</th>\n",
       "      <td>20</td>\n",
       "      <td>0</td>\n",
       "      <td>31.790</td>\n",
       "      <td>2</td>\n",
       "      <td>0</td>\n",
       "      <td>2</td>\n",
       "    </tr>\n",
       "    <tr>\n",
       "      <th>140</th>\n",
       "      <td>34</td>\n",
       "      <td>1</td>\n",
       "      <td>22.420</td>\n",
       "      <td>2</td>\n",
       "      <td>0</td>\n",
       "      <td>0</td>\n",
       "    </tr>\n",
       "    <tr>\n",
       "      <th>1173</th>\n",
       "      <td>38</td>\n",
       "      <td>1</td>\n",
       "      <td>29.260</td>\n",
       "      <td>2</td>\n",
       "      <td>0</td>\n",
       "      <td>1</td>\n",
       "    </tr>\n",
       "    <tr>\n",
       "      <th>1036</th>\n",
       "      <td>22</td>\n",
       "      <td>1</td>\n",
       "      <td>37.070</td>\n",
       "      <td>2</td>\n",
       "      <td>1</td>\n",
       "      <td>2</td>\n",
       "    </tr>\n",
       "    <tr>\n",
       "      <th>...</th>\n",
       "      <td>...</td>\n",
       "      <td>...</td>\n",
       "      <td>...</td>\n",
       "      <td>...</td>\n",
       "      <td>...</td>\n",
       "      <td>...</td>\n",
       "    </tr>\n",
       "    <tr>\n",
       "      <th>1104</th>\n",
       "      <td>37</td>\n",
       "      <td>1</td>\n",
       "      <td>29.800</td>\n",
       "      <td>0</td>\n",
       "      <td>0</td>\n",
       "      <td>3</td>\n",
       "    </tr>\n",
       "    <tr>\n",
       "      <th>1139</th>\n",
       "      <td>19</td>\n",
       "      <td>0</td>\n",
       "      <td>32.490</td>\n",
       "      <td>0</td>\n",
       "      <td>1</td>\n",
       "      <td>1</td>\n",
       "    </tr>\n",
       "    <tr>\n",
       "      <th>1303</th>\n",
       "      <td>43</td>\n",
       "      <td>1</td>\n",
       "      <td>27.800</td>\n",
       "      <td>0</td>\n",
       "      <td>1</td>\n",
       "      <td>3</td>\n",
       "    </tr>\n",
       "    <tr>\n",
       "      <th>867</th>\n",
       "      <td>57</td>\n",
       "      <td>1</td>\n",
       "      <td>43.700</td>\n",
       "      <td>1</td>\n",
       "      <td>0</td>\n",
       "      <td>3</td>\n",
       "    </tr>\n",
       "    <tr>\n",
       "      <th>1135</th>\n",
       "      <td>50</td>\n",
       "      <td>0</td>\n",
       "      <td>28.120</td>\n",
       "      <td>3</td>\n",
       "      <td>0</td>\n",
       "      <td>1</td>\n",
       "    </tr>\n",
       "  </tbody>\n",
       "</table>\n",
       "<p>929 rows × 6 columns</p>\n",
       "</div>"
      ],
      "text/plain": [
       "      age  sex     bmi  children  smoker  region\n",
       "623    18    1  33.535         0       1       0\n",
       "541    20    0  31.790         2       0       2\n",
       "140    34    1  22.420         2       0       0\n",
       "1173   38    1  29.260         2       0       1\n",
       "1036   22    1  37.070         2       1       2\n",
       "...   ...  ...     ...       ...     ...     ...\n",
       "1104   37    1  29.800         0       0       3\n",
       "1139   19    0  32.490         0       1       1\n",
       "1303   43    1  27.800         0       1       3\n",
       "867    57    1  43.700         1       0       3\n",
       "1135   50    0  28.120         3       0       1\n",
       "\n",
       "[929 rows x 6 columns]"
      ]
     },
     "execution_count": 19,
     "metadata": {},
     "output_type": "execute_result"
    }
   ],
   "source": [
    "from sklearn.linear_model import LinearRegression\n",
    "from sklearn.model_selection import train_test_split\n",
    "x_train,x_test,y_train,y_test=train_test_split(x,y, test_size=0.3, random_state=42)\n",
    "x_train\n"
   ]
  },
  {
   "cell_type": "code",
   "execution_count": 20,
   "id": "ab9379f2",
   "metadata": {
    "execution": {
     "iopub.execute_input": "2025-07-14T11:06:28.604192Z",
     "iopub.status.busy": "2025-07-14T11:06:28.603839Z",
     "iopub.status.idle": "2025-07-14T11:06:28.642548Z",
     "shell.execute_reply": "2025-07-14T11:06:28.641661Z"
    },
    "papermill": {
     "duration": 0.049376,
     "end_time": "2025-07-14T11:06:28.643957",
     "exception": false,
     "start_time": "2025-07-14T11:06:28.594581",
     "status": "completed"
    },
    "tags": []
   },
   "outputs": [
    {
     "data": {
      "text/html": [
       "<style>#sk-container-id-1 {color: black;background-color: white;}#sk-container-id-1 pre{padding: 0;}#sk-container-id-1 div.sk-toggleable {background-color: white;}#sk-container-id-1 label.sk-toggleable__label {cursor: pointer;display: block;width: 100%;margin-bottom: 0;padding: 0.3em;box-sizing: border-box;text-align: center;}#sk-container-id-1 label.sk-toggleable__label-arrow:before {content: \"▸\";float: left;margin-right: 0.25em;color: #696969;}#sk-container-id-1 label.sk-toggleable__label-arrow:hover:before {color: black;}#sk-container-id-1 div.sk-estimator:hover label.sk-toggleable__label-arrow:before {color: black;}#sk-container-id-1 div.sk-toggleable__content {max-height: 0;max-width: 0;overflow: hidden;text-align: left;background-color: #f0f8ff;}#sk-container-id-1 div.sk-toggleable__content pre {margin: 0.2em;color: black;border-radius: 0.25em;background-color: #f0f8ff;}#sk-container-id-1 input.sk-toggleable__control:checked~div.sk-toggleable__content {max-height: 200px;max-width: 100%;overflow: auto;}#sk-container-id-1 input.sk-toggleable__control:checked~label.sk-toggleable__label-arrow:before {content: \"▾\";}#sk-container-id-1 div.sk-estimator input.sk-toggleable__control:checked~label.sk-toggleable__label {background-color: #d4ebff;}#sk-container-id-1 div.sk-label input.sk-toggleable__control:checked~label.sk-toggleable__label {background-color: #d4ebff;}#sk-container-id-1 input.sk-hidden--visually {border: 0;clip: rect(1px 1px 1px 1px);clip: rect(1px, 1px, 1px, 1px);height: 1px;margin: -1px;overflow: hidden;padding: 0;position: absolute;width: 1px;}#sk-container-id-1 div.sk-estimator {font-family: monospace;background-color: #f0f8ff;border: 1px dotted black;border-radius: 0.25em;box-sizing: border-box;margin-bottom: 0.5em;}#sk-container-id-1 div.sk-estimator:hover {background-color: #d4ebff;}#sk-container-id-1 div.sk-parallel-item::after {content: \"\";width: 100%;border-bottom: 1px solid gray;flex-grow: 1;}#sk-container-id-1 div.sk-label:hover label.sk-toggleable__label {background-color: #d4ebff;}#sk-container-id-1 div.sk-serial::before {content: \"\";position: absolute;border-left: 1px solid gray;box-sizing: border-box;top: 0;bottom: 0;left: 50%;z-index: 0;}#sk-container-id-1 div.sk-serial {display: flex;flex-direction: column;align-items: center;background-color: white;padding-right: 0.2em;padding-left: 0.2em;position: relative;}#sk-container-id-1 div.sk-item {position: relative;z-index: 1;}#sk-container-id-1 div.sk-parallel {display: flex;align-items: stretch;justify-content: center;background-color: white;position: relative;}#sk-container-id-1 div.sk-item::before, #sk-container-id-1 div.sk-parallel-item::before {content: \"\";position: absolute;border-left: 1px solid gray;box-sizing: border-box;top: 0;bottom: 0;left: 50%;z-index: -1;}#sk-container-id-1 div.sk-parallel-item {display: flex;flex-direction: column;z-index: 1;position: relative;background-color: white;}#sk-container-id-1 div.sk-parallel-item:first-child::after {align-self: flex-end;width: 50%;}#sk-container-id-1 div.sk-parallel-item:last-child::after {align-self: flex-start;width: 50%;}#sk-container-id-1 div.sk-parallel-item:only-child::after {width: 0;}#sk-container-id-1 div.sk-dashed-wrapped {border: 1px dashed gray;margin: 0 0.4em 0.5em 0.4em;box-sizing: border-box;padding-bottom: 0.4em;background-color: white;}#sk-container-id-1 div.sk-label label {font-family: monospace;font-weight: bold;display: inline-block;line-height: 1.2em;}#sk-container-id-1 div.sk-label-container {text-align: center;}#sk-container-id-1 div.sk-container {/* jupyter's `normalize.less` sets `[hidden] { display: none; }` but bootstrap.min.css set `[hidden] { display: none !important; }` so we also need the `!important` here to be able to override the default hidden behavior on the sphinx rendered scikit-learn.org. See: https://github.com/scikit-learn/scikit-learn/issues/21755 */display: inline-block !important;position: relative;}#sk-container-id-1 div.sk-text-repr-fallback {display: none;}</style><div id=\"sk-container-id-1\" class=\"sk-top-container\"><div class=\"sk-text-repr-fallback\"><pre>LinearRegression()</pre><b>In a Jupyter environment, please rerun this cell to show the HTML representation or trust the notebook. <br />On GitHub, the HTML representation is unable to render, please try loading this page with nbviewer.org.</b></div><div class=\"sk-container\" hidden><div class=\"sk-item\"><div class=\"sk-estimator sk-toggleable\"><input class=\"sk-toggleable__control sk-hidden--visually\" id=\"sk-estimator-id-1\" type=\"checkbox\" checked><label for=\"sk-estimator-id-1\" class=\"sk-toggleable__label sk-toggleable__label-arrow\">LinearRegression</label><div class=\"sk-toggleable__content\"><pre>LinearRegression()</pre></div></div></div></div></div>"
      ],
      "text/plain": [
       "LinearRegression()"
      ]
     },
     "execution_count": 20,
     "metadata": {},
     "output_type": "execute_result"
    }
   ],
   "source": [
    "my_model=LinearRegression()\n",
    "\n",
    "#traing data\n",
    "my_model.fit(x_train, y_train)"
   ]
  },
  {
   "cell_type": "code",
   "execution_count": 21,
   "id": "3201b1d0",
   "metadata": {
    "execution": {
     "iopub.execute_input": "2025-07-14T11:06:28.663189Z",
     "iopub.status.busy": "2025-07-14T11:06:28.662843Z",
     "iopub.status.idle": "2025-07-14T11:06:28.673056Z",
     "shell.execute_reply": "2025-07-14T11:06:28.672219Z"
    },
    "papermill": {
     "duration": 0.021562,
     "end_time": "2025-07-14T11:06:28.674339",
     "exception": false,
     "start_time": "2025-07-14T11:06:28.652777",
     "status": "completed"
    },
    "tags": []
   },
   "outputs": [
    {
     "data": {
      "text/plain": [
       "array([ 7880.46978427, 13209.32898603, 10583.58172291,  7956.6801571 ,\n",
       "        4184.46734594, 13305.19052341,  8341.62106722,  6585.58594695,\n",
       "        3728.11549574, 17412.74131376,  2578.15759617, 29707.49184694,\n",
       "        5599.41053522, 32102.88221442,  5172.0561783 , 12385.62705365,\n",
       "       10643.27776704,  6076.47495332, 11184.82197667, 27983.97882424,\n",
       "        8087.08809558,  9155.00730188,  8334.82296007, 32863.5174939 ,\n",
       "         146.92388949, 12952.80581025,  7934.14669491,  8416.10785305,\n",
       "        8477.87859191, 27885.17189159,  7296.91705516,  6997.97782472,\n",
       "        4453.53552028, 34022.9903133 ,  5248.39910914,  7411.17376037,\n",
       "        6599.79009066,  4045.06912235,   652.69531011, 36480.04968105,\n",
       "        4997.00477343,  -813.20276989,  7191.05580425,  5533.10300745,\n",
       "       11194.73057388,  9032.69251952, 15369.15581437,  4668.2869495 ,\n",
       "       15469.18542028, 33998.95248593,  -188.07679518,  4435.93294209,\n",
       "       11700.92801579,  2268.97180189, 30133.78115588,  1026.35514376,\n",
       "        2875.88008142, 14826.30506843, 10951.32602739,  2687.66076283,\n",
       "       11866.19180299, 10226.68669386, 13096.26643507,  6534.68294853,\n",
       "       19139.68635303,  9536.9449794 , 12049.46248924,  9064.11294448,\n",
       "        2535.20574602,  3857.0268672 , 19478.85855799, 11011.71937871,\n",
       "        5633.99540551,  8483.22337381,  9375.33751064, 23817.6787763 ,\n",
       "       -2412.78052723, 14191.22750915, 14723.36929126,  6760.89918787,\n",
       "        3310.42496772,  -174.43151279, 27660.85461286, 14208.02044265,\n",
       "       10519.89261072,  1298.0993166 ,  8722.67863893,  4439.82240581,\n",
       "        8047.96643638,  8345.51053094,  1391.64048139, 26593.14183289,\n",
       "       32374.17428307,   387.77063738,  5882.52655733, 11649.73083742,\n",
       "       31489.54320389, 13705.72525995,  8213.38567565, 36978.40424986,\n",
       "       11235.43830921, 16233.89200592, 28846.20293962, 11456.157832  ,\n",
       "       34051.0607613 ,  3037.82745256, 13803.03575278, -1591.55203006,\n",
       "       11986.70011486,  4778.36878877,  5975.02369395,  3764.43811393,\n",
       "       12378.8484949 ,  3853.8856234 , 13785.13106928, 14790.71237691,\n",
       "       12978.44570018,  7025.84475323, 12602.66516735, 12529.46457013,\n",
       "       13199.71741408, 15468.62165069, 12879.09576335,  4915.07774555,\n",
       "        7673.29315656,  8860.74480731, 11618.65617725,  4086.61106929,\n",
       "       10140.57267667,  5176.37455318, 31906.97819292,  4275.92317252,\n",
       "        7259.83731213,  4238.25961116, 11254.51382673, 15735.55453029,\n",
       "        5797.81803541, 14140.20533126, 12740.07990158,  9617.67235528,\n",
       "        7248.122289  , 11369.39455385,  6228.21287711, 11554.54716906,\n",
       "       34091.50096995, 35426.69814854,  4736.04107078, 30824.10110829,\n",
       "       14170.07197941,  7147.21257727, 33141.21351308, 13266.24281945,\n",
       "       10316.64310811,  8941.74014453, 36085.76153265, 12898.0527735 ,\n",
       "       14899.20318721,  1856.6152851 ,  3958.37736755,  4942.05547044,\n",
       "        5513.69741053, 26528.23925549,  6157.63286867, 39824.67839719,\n",
       "        9268.32606394, 16024.60653952, 40475.70664278, 15926.76861122,\n",
       "         614.89739067,  3050.49766684,  5747.01725255,  8824.1577452 ,\n",
       "       11613.4573319 ,  9447.88272162,  4096.02922032, 29375.30395495,\n",
       "        4931.17150614, 31269.77446431, 11651.31011616, 11836.1702031 ,\n",
       "       12863.5187057 ,  9793.82773317,  1651.64219549, 16162.37363663,\n",
       "       30413.76168633, 12099.08038887, 33235.70207085, 31581.74725038,\n",
       "        9684.08318841, 25729.67010833, 26229.99791528,  6311.04629508,\n",
       "       10665.59541459, 26431.62224495,  7482.31741119,  1752.4435218 ,\n",
       "       39614.54127831, 32192.41310772, 15200.73073462, 35832.43941834,\n",
       "       32898.15110371,  6320.33021523, 10881.48359539,  5076.29590029,\n",
       "       31009.79503369, 25592.00830538, 30839.26947528, 35967.88617038,\n",
       "       34722.58793336,  2473.40648814,  5524.98394019, 10966.98362355,\n",
       "       -2145.32972767,  4692.68980804, 17842.26415527,  7102.46889676,\n",
       "        8974.03450545,  5635.43382773,  8296.48027453,  5884.41969162,\n",
       "        2985.55305827,  5756.64409217,  6617.09303572,  5944.19955425,\n",
       "       12543.13074515,  6322.97156943,  1174.46926476, 35457.95749648,\n",
       "        9279.52358483, 39543.82024159, 14192.1855456 ,  7032.63723543,\n",
       "        6759.49328131,  8932.75804768,  1351.24890202, 10647.62194283,\n",
       "        3209.53752251, 14853.47579654,  9132.22429879, 12590.4294892 ,\n",
       "       11669.38187478,  9515.87628524, 37459.09653307,  6350.97377407,\n",
       "        7745.78689294, 38833.04230407, 11927.07001368,  6787.72274338,\n",
       "       12351.22826198, 24526.79689657,  9349.5968617 , 10099.00325597,\n",
       "        8995.52993757,  1554.83897913, 14944.47691105,  9964.15218275,\n",
       "       13225.74049273, 38437.6369525 , 10580.41971369, 14786.71930886,\n",
       "       11345.27853295,  9289.15259765, 11803.50329692, 14721.31629695,\n",
       "       -1457.82663028, 35228.2704724 ,  4370.97495497,  9473.01672385,\n",
       "       33009.36610713, 11445.44002477,  3489.3716987 ,  3114.02268492,\n",
       "        6338.28296614,  5555.1041259 ,  1858.70976567,  3354.66191666,\n",
       "       14276.24430623,  7453.60495549, 11913.33789571,  3406.99503881,\n",
       "       14461.92915494,  9058.99748297, 12876.72224329, 14213.4870119 ,\n",
       "       33929.53459531, 23363.62753404, 12411.65805766, 12007.25953111,\n",
       "       32781.78568701, 11047.25405263, 32576.4167468 ,  3021.97426227,\n",
       "        -106.01738106, 32990.97940957,  6027.15106187,  5183.12973864,\n",
       "       30426.15898642, 11144.19037191, 31582.78856043, 10210.93450853,\n",
       "       14175.48446619,  7084.04751033,  9228.43546399, 36762.16824131,\n",
       "        7900.2869787 , 30711.23983793, 13708.08702976, 12674.9178331 ,\n",
       "       36356.5297935 , 27461.14674621, 28964.29424373, 29260.38308577,\n",
       "       24524.18423315, 12930.39915393,  4753.34401584, 13708.77983995,\n",
       "       12257.8793011 , 34554.86191629, 28096.77977659, 12170.67614389,\n",
       "       35207.22728017,  3289.02236926, 11335.08297089,  8493.43790122,\n",
       "        8550.53848536,  3548.52347708, 13495.99016152,  6039.84694985,\n",
       "        7070.26337285,  2704.17509152, 11412.16690654, 11591.39589545,\n",
       "       11166.32906689, 10599.52065896,  2320.55670412, 24150.5825443 ,\n",
       "       17365.22050258, 14341.99975312,  5243.65962125, 32994.50996739,\n",
       "        9007.12910578,  8843.00230761, 36517.94316923, 11551.2145673 ,\n",
       "       13572.8828113 ,  4112.25004117,  2682.22314726, 11741.84817554,\n",
       "       15334.91629965, 33306.25258071, 12710.32491882,  7232.34510208,\n",
       "       28037.57749677,  4476.9190448 , 15970.17789155, 12384.76649624,\n",
       "       10149.72512861,  3877.4946668 , 10117.689152  ,  2903.03113392,\n",
       "        8387.32098412, 23317.31250015,  8178.38351724,  4847.37169168,\n",
       "        1021.64254657, 14737.85030125, 16246.25956999, 31053.23556811,\n",
       "       15512.85012936,   712.2078835 , 28293.13264776,  4867.94503138,\n",
       "        4101.87280843, 17985.6142045 , 16093.23255076, 39931.54336243,\n",
       "        1633.09387599,  5491.88036926,  9342.99113022, 16178.69830776,\n",
       "       12267.78789832, 26715.60922201, 16941.09707036, -1824.7293427 ,\n",
       "        2500.51659928, 25204.47860546, 33503.59298691,  2881.80353594,\n",
       "       12671.08764214,  2002.3358373 , 12385.91111165, 11517.82687683,\n",
       "        4443.86853861, 11890.91470806,  3859.05594973, 26545.20829625,\n",
       "       14604.96195839, 28856.17747979, 38640.15270356])"
      ]
     },
     "execution_count": 21,
     "metadata": {},
     "output_type": "execute_result"
    }
   ],
   "source": [
    "#prediction\n",
    "y_pred= my_model.predict(x_test)\n",
    "y_pred"
   ]
  },
  {
   "cell_type": "code",
   "execution_count": 22,
   "id": "28fd6ede",
   "metadata": {
    "execution": {
     "iopub.execute_input": "2025-07-14T11:06:28.693813Z",
     "iopub.status.busy": "2025-07-14T11:06:28.693211Z",
     "iopub.status.idle": "2025-07-14T11:06:28.699522Z",
     "shell.execute_reply": "2025-07-14T11:06:28.698799Z"
    },
    "papermill": {
     "duration": 0.017593,
     "end_time": "2025-07-14T11:06:28.700834",
     "exception": false,
     "start_time": "2025-07-14T11:06:28.683241",
     "status": "completed"
    },
    "tags": []
   },
   "outputs": [
    {
     "data": {
      "text/plain": [
       "0.7686317588962694"
      ]
     },
     "execution_count": 22,
     "metadata": {},
     "output_type": "execute_result"
    }
   ],
   "source": [
    "from sklearn.metrics import *\n",
    "result=r2_score(y_test, y_pred)\n",
    "result"
   ]
  },
  {
   "cell_type": "code",
   "execution_count": 23,
   "id": "c2104c76",
   "metadata": {
    "execution": {
     "iopub.execute_input": "2025-07-14T11:06:28.719849Z",
     "iopub.status.busy": "2025-07-14T11:06:28.719532Z",
     "iopub.status.idle": "2025-07-14T11:06:28.725724Z",
     "shell.execute_reply": "2025-07-14T11:06:28.724986Z"
    },
    "papermill": {
     "duration": 0.017271,
     "end_time": "2025-07-14T11:06:28.727123",
     "exception": false,
     "start_time": "2025-07-14T11:06:28.709852",
     "status": "completed"
    },
    "tags": []
   },
   "outputs": [
    {
     "data": {
      "text/plain": [
       "4140.62663295605"
      ]
     },
     "execution_count": 23,
     "metadata": {},
     "output_type": "execute_result"
    }
   ],
   "source": [
    "mae=mean_absolute_error(y_test,y_pred)\n",
    "mae"
   ]
  },
  {
   "cell_type": "code",
   "execution_count": 24,
   "id": "2df226fe",
   "metadata": {
    "execution": {
     "iopub.execute_input": "2025-07-14T11:06:28.746007Z",
     "iopub.status.busy": "2025-07-14T11:06:28.745685Z",
     "iopub.status.idle": "2025-07-14T11:06:28.751589Z",
     "shell.execute_reply": "2025-07-14T11:06:28.750941Z"
    },
    "papermill": {
     "duration": 0.016744,
     "end_time": "2025-07-14T11:06:28.752829",
     "exception": false,
     "start_time": "2025-07-14T11:06:28.736085",
     "status": "completed"
    },
    "tags": []
   },
   "outputs": [
    {
     "data": {
      "text/plain": [
       "35199679.46899382"
      ]
     },
     "execution_count": 24,
     "metadata": {},
     "output_type": "execute_result"
    }
   ],
   "source": [
    "mse=mean_squared_error(y_test,y_pred)\n",
    "mse"
   ]
  },
  {
   "cell_type": "code",
   "execution_count": 25,
   "id": "3253a467",
   "metadata": {
    "execution": {
     "iopub.execute_input": "2025-07-14T11:06:28.771953Z",
     "iopub.status.busy": "2025-07-14T11:06:28.771633Z",
     "iopub.status.idle": "2025-07-14T11:06:28.776849Z",
     "shell.execute_reply": "2025-07-14T11:06:28.776195Z"
    },
    "papermill": {
     "duration": 0.016292,
     "end_time": "2025-07-14T11:06:28.778124",
     "exception": false,
     "start_time": "2025-07-14T11:06:28.761832",
     "status": "completed"
    },
    "tags": []
   },
   "outputs": [
    {
     "data": {
      "text/plain": [
       "5932.93177687"
      ]
     },
     "execution_count": 25,
     "metadata": {},
     "output_type": "execute_result"
    }
   ],
   "source": [
    "rmse=np.sqrt(mse)\n",
    "rmse"
   ]
  },
  {
   "cell_type": "code",
   "execution_count": null,
   "id": "f929c0f9",
   "metadata": {
    "papermill": {
     "duration": 0.00872,
     "end_time": "2025-07-14T11:06:28.796100",
     "exception": false,
     "start_time": "2025-07-14T11:06:28.787380",
     "status": "completed"
    },
    "tags": []
   },
   "outputs": [],
   "source": []
  },
  {
   "cell_type": "code",
   "execution_count": 26,
   "id": "66355eb0",
   "metadata": {
    "execution": {
     "iopub.execute_input": "2025-07-14T11:06:28.815259Z",
     "iopub.status.busy": "2025-07-14T11:06:28.814896Z",
     "iopub.status.idle": "2025-07-14T11:06:28.821695Z",
     "shell.execute_reply": "2025-07-14T11:06:28.820942Z"
    },
    "papermill": {
     "duration": 0.01797,
     "end_time": "2025-07-14T11:06:28.823041",
     "exception": false,
     "start_time": "2025-07-14T11:06:28.805071",
     "status": "completed"
    },
    "tags": []
   },
   "outputs": [
    {
     "data": {
      "text/plain": [
       "1210     5373.36425\n",
       "115     30259.99556\n",
       "986      8410.04685\n",
       "176      6455.86265\n",
       "63       4133.64165\n",
       "           ...     \n",
       "294      3906.12700\n",
       "1308    33900.65300\n",
       "467     12643.37780\n",
       "142     18972.49500\n",
       "677     46130.52650\n",
       "Name: charges, Length: 399, dtype: float64"
      ]
     },
     "execution_count": 26,
     "metadata": {},
     "output_type": "execute_result"
    }
   ],
   "source": [
    "y_test"
   ]
  },
  {
   "cell_type": "code",
   "execution_count": 27,
   "id": "2ae83c39",
   "metadata": {
    "execution": {
     "iopub.execute_input": "2025-07-14T11:06:28.843045Z",
     "iopub.status.busy": "2025-07-14T11:06:28.842327Z",
     "iopub.status.idle": "2025-07-14T11:06:29.139382Z",
     "shell.execute_reply": "2025-07-14T11:06:29.138541Z"
    },
    "papermill": {
     "duration": 0.308642,
     "end_time": "2025-07-14T11:06:29.140943",
     "exception": false,
     "start_time": "2025-07-14T11:06:28.832301",
     "status": "completed"
    },
    "tags": []
   },
   "outputs": [
    {
     "data": {
      "text/plain": [
       "<Axes: ylabel='charges'>"
      ]
     },
     "execution_count": 27,
     "metadata": {},
     "output_type": "execute_result"
    },
    {
     "data": {
      "image/png": "[encoded data removed]",
      "text/plain": [
       "<Figure size 640x480 with 1 Axes>"
      ]
     },
     "metadata": {},
     "output_type": "display_data"
    }
   ],
   "source": [
    "sns.regplot(x= y_pred, y= y_test, line_kws={'color':'red'})\n"
   ]
  }
 ],
 "metadata": {
  "kaggle": {
   "accelerator": "none",
   "dataSources": [
    {
     "datasetId": 3852935,
     "sourceId": 6678394,
     "sourceType": "datasetVersion"
    }
   ],
   "dockerImageVersionId": 31089,
   "isGpuEnabled": false,
   "isInternetEnabled": true,
   "language": "python",
   "sourceType": "notebook"
  },
  "kernelspec": {
   "display_name": "Python 3",
   "language": "python",
   "name": "python3"
  },
  "language_info": {
   "codemirror_mode": {
    "name": "ipython",
    "version": 3
   },
   "file_extension": ".py",
   "mimetype": "text/x-python",
   "name": "python",
   "nbconvert_exporter": "python",
   "pygments_lexer": "ipython3",
   "version": "3.11.13"
  },
  "papermill": {
   "default_parameters": {},
   "duration": 11.027195,
   "end_time": "2025-07-14T11:06:29.871361",
   "environment_variables": {},
   "exception": null,
   "input_path": "__notebook__.ipynb",
   "output_path": "__notebook__.ipynb",
   "parameters": {},
   "start_time": "2025-07-14T11:06:18.844166",
   "version": "2.6.0"
  }
 },
 "nbformat": 4,
 "nbformat_minor": 5
}
